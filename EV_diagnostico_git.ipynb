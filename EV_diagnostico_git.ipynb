{
 "cells": [
  {
   "cell_type": "markdown",
   "metadata": {},
   "source": [
    "# Evaluacion diagnostico de git\n",
    "\n",
    "Nombre: Brian Saavedra Lillo\n",
    "\n",
    "Número de alumno: 17205670\n",
    "\n",
    "Fecha: 28/03/2022\n",
    "\n",
    "## Carga del dataset"
   ]
  },
  {
   "cell_type": "code",
   "execution_count": 3,
   "metadata": {},
   "outputs": [],
   "source": [
    "import json\n",
    "import pandas as pd\n",
    "\n",
    "tweets = []\n",
    "for line in open('farmers-protest-tweets-2021-03-5.json'):\n",
    "    tweets.append(json.loads(line))\n",
    "\n",
    "df = pd.DataFrame(tweets)"
   ]
  },
  {
   "cell_type": "markdown",
   "metadata": {},
   "source": [
    "## Funciones\n",
    "\n",
    "### 1.- Top 10 tweets con mas retweets"
   ]
  },
  {
   "cell_type": "code",
   "execution_count": null,
   "metadata": {},
   "outputs": [],
   "source": []
  },
  {
   "cell_type": "markdown",
   "metadata": {},
   "source": [
    "### 2.- Top 10 usuarios con mas tweets"
   ]
  },
  {
   "cell_type": "code",
   "execution_count": 9,
   "metadata": {},
   "outputs": [
    {
     "name": "stdout",
     "output_type": "stream",
     "text": [
      "[('harjot_tweeting', 7134), ('tasveersandhu', 2091), ('shells_n_petals', 1991), ('jot__b', 1841), ('rebelpacifist', 1806), ('rumsomal', 1722), ('Iamjazzie96', 1502), ('Jass_k_G', 1460), ('DigitalKisanBot', 1453), ('z_khalique007', 1446)]\n"
     ]
    }
   ],
   "source": [
    "from collections import Counter\n",
    "def usuarios_mas_tweets(dataframe):\n",
    "    return Counter([element['username'] for element in df['user'].values]).most_common(10)\n",
    "\n",
    "print(usuarios_mas_tweets(df))"
   ]
  },
  {
   "cell_type": "markdown",
   "metadata": {},
   "source": [
    "### 3.- Top 10 dias con mas tweets"
   ]
  },
  {
   "cell_type": "code",
   "execution_count": null,
   "metadata": {},
   "outputs": [],
   "source": []
  },
  {
   "cell_type": "markdown",
   "metadata": {},
   "source": [
    "### 4.- Top 10 hashtags mas usados"
   ]
  },
  {
   "cell_type": "code",
   "execution_count": null,
   "metadata": {},
   "outputs": [],
   "source": []
  }
 ],
 "metadata": {
  "kernelspec": {
   "display_name": "Python 3",
   "language": "python",
   "name": "python3"
  },
  "language_info": {
   "codemirror_mode": {
    "name": "ipython",
    "version": 3
   },
   "file_extension": ".py",
   "mimetype": "text/x-python",
   "name": "python",
   "nbconvert_exporter": "python",
   "pygments_lexer": "ipython3",
   "version": "3.7.9"
  }
 },
 "nbformat": 4,
 "nbformat_minor": 4
}
