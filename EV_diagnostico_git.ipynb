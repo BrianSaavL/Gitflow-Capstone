{
 "cells": [
  {
   "cell_type": "markdown",
   "metadata": {},
   "source": [
    "# Evaluacion diagnostico de git\n",
    "\n",
    "Nombre: Brian Saavedra Lillo\n",
    "\n",
    "Número de alumno: 17205670\n",
    "\n",
    "Fecha: 28/03/2022\n",
    "\n",
    "## Carga del dataset"
   ]
  },
  {
   "cell_type": "code",
   "execution_count": 1,
   "metadata": {},
   "outputs": [],
   "source": [
    "import json\n",
    "import pandas as pd\n",
    "\n",
    "tweets = []\n",
    "for line in open('farmers-protest-tweets-2021-03-5.json'):\n",
    "    tweets.append(json.loads(line))\n",
    "\n",
    "df = pd.DataFrame(tweets)"
   ]
  },
  {
   "cell_type": "markdown",
   "metadata": {},
   "source": [
    "## Funciones\n",
    "\n",
    "### 1.- Top 10 tweets con mas retweets"
   ]
  },
  {
   "cell_type": "code",
   "execution_count": null,
   "metadata": {},
   "outputs": [],
   "source": []
  },
  {
   "cell_type": "markdown",
   "metadata": {},
   "source": [
    "### 2.- Top 10 usuarios con mas tweets"
   ]
  },
  {
   "cell_type": "code",
   "execution_count": null,
   "metadata": {},
   "outputs": [],
   "source": []
  },
  {
   "cell_type": "markdown",
   "metadata": {},
   "source": [
    "### 3.- Top 10 dias con mas tweets"
   ]
  },
  {
   "cell_type": "code",
   "execution_count": 15,
   "metadata": {},
   "outputs": [
    {
     "data": {
      "text/plain": [
       "[('2021-02-03', 83866),\n",
       " ('2021-02-04', 58607),\n",
       " ('2021-02-05', 33332),\n",
       " ('2021-02-02', 28548),\n",
       " ('2021-02-06', 22420),\n",
       " ('2021-02-07', 11325),\n",
       " ('2021-02-09', 9320),\n",
       " ('2021-02-08', 8920),\n",
       " ('2021-02-10', 7973),\n",
       " ('2021-02-11', 5698)]"
      ]
     },
     "execution_count": 15,
     "metadata": {},
     "output_type": "execute_result"
    }
   ],
   "source": [
    "from collections import Counter\n",
    "def dias_con_mas_tweets(dataframe):\n",
    "    return Counter([element.split(\"T\")[0] for element in dataframe['date'].values]).most_common(10)\n",
    "\n",
    "df3 = pd.Datadias_con_mas_tweets(df)"
   ]
  },
  {
   "cell_type": "markdown",
   "metadata": {},
   "source": [
    "### 4.- Top 10 hashtags mas usados"
   ]
  },
  {
   "cell_type": "code",
   "execution_count": null,
   "metadata": {},
   "outputs": [],
   "source": []
  }
 ],
 "metadata": {
  "kernelspec": {
   "display_name": "Python 3",
   "language": "python",
   "name": "python3"
  },
  "language_info": {
   "codemirror_mode": {
    "name": "ipython",
    "version": 3
   },
   "file_extension": ".py",
   "mimetype": "text/x-python",
   "name": "python",
   "nbconvert_exporter": "python",
   "pygments_lexer": "ipython3",
   "version": "3.7.9"
  }
 },
 "nbformat": 4,
 "nbformat_minor": 4
}
